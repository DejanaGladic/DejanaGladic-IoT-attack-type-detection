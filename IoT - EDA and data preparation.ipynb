{
 "cells": [
  {
   "cell_type": "markdown",
   "id": "0b9c7af7",
   "metadata": {},
   "source": [
    "# Link do dataseta https://www.kaggle.com/datasets/supplejade/rt-iot2022real-time-internet-of-things/data"
   ]
  },
  {
   "cell_type": "code",
   "execution_count": 57,
   "id": "5f9b03d8",
   "metadata": {
    "scrolled": false
   },
   "outputs": [],
   "source": [
    "import pandas as pd\n",
    "import numpy as np\n",
    "import matplotlib.pyplot as plt\n",
    "import seaborn as sns\n",
    "\n",
    "import warnings\n",
    "warnings.filterwarnings(\"ignore\")"
   ]
  },
  {
   "cell_type": "code",
   "execution_count": 58,
   "id": "4d122a7f",
   "metadata": {},
   "outputs": [
    {
     "data": {
      "text/plain": [
       "(123117, 85)"
      ]
     },
     "execution_count": 58,
     "metadata": {},
     "output_type": "execute_result"
    }
   ],
   "source": [
    "dt = pd.read_csv('RT_IOT2022.csv')\n",
    "#dt.head(10)\n",
    "dt.shape\n",
    "# --> imamo 123.117 redove (zapisa) i 85 kolona\n",
    "# prema Andrew Ng ako dataset ima vise od 10k redova onda predstavlja large dataset"
   ]
  },
  {
   "cell_type": "markdown",
   "id": "93507e64",
   "metadata": {},
   "source": [
    "# PREGLED CILJNE (TARGET) VARIJABLE"
   ]
  },
  {
   "cell_type": "code",
   "execution_count": null,
   "id": "230ebfbc",
   "metadata": {},
   "outputs": [],
   "source": [
    "# ispitujem koje target varijable postoje - na linku o data setu ima koji tipovi su napadi a koji ne\n",
    "dt['Attack_type'].unique()"
   ]
  },
  {
   "cell_type": "code",
   "execution_count": null,
   "id": "77ed4c20",
   "metadata": {},
   "outputs": [],
   "source": [
    "dt['Attack_type'].value_counts()\n",
    "# ja kontam da ostavimo da li je napad ili ne, a ne da predviđamo vrstu napada, ali kako se dogovorimo??"
   ]
  },
  {
   "cell_type": "markdown",
   "id": "bc6d3dc9",
   "metadata": {},
   "source": [
    "# ovde mozda ubaciti neki pregled ciljane varijable pre mapiranja u 0 i 1 --> tamo na linku dataseta se nesto pominje Amazon ALexa pa i to proveriti"
   ]
  },
  {
   "cell_type": "markdown",
   "id": "9c54bdc2",
   "metadata": {},
   "source": [
    "**LABEL ENCODING** za **TARGET VAR**"
   ]
  },
  {
   "cell_type": "code",
   "execution_count": 59,
   "id": "36c24631",
   "metadata": {},
   "outputs": [
    {
     "name": "stdout",
     "output_type": "stream",
     "text": [
      "          no  id.orig_p  id.resp_p proto service  flow_duration  fwd_pkts_tot  \\\n",
      "0          0      38667       1883   tcp    mqtt      32.011598             9   \n",
      "1          1      51143       1883   tcp    mqtt      31.883584             9   \n",
      "2          2      44761       1883   tcp    mqtt      32.124053             9   \n",
      "3          3      60893       1883   tcp    mqtt      31.961063             9   \n",
      "4          4      51087       1883   tcp    mqtt      31.902362             9   \n",
      "...      ...        ...        ...   ...     ...            ...           ...   \n",
      "123112  2005      59247      63331   tcp       -       0.000006             1   \n",
      "123113  2006      59247      64623   tcp       -       0.000007             1   \n",
      "123114  2007      59247      64680   tcp       -       0.000006             1   \n",
      "123115  2008      59247      65000   tcp       -       0.000006             1   \n",
      "123116  2009      59247      65129   tcp       -       0.000006             1   \n",
      "\n",
      "        bwd_pkts_tot  fwd_data_pkts_tot  bwd_data_pkts_tot  ...      idle.min  \\\n",
      "0                  5                  3                  3  ...  2.972918e+07   \n",
      "1                  5                  3                  3  ...  2.985528e+07   \n",
      "2                  5                  3                  3  ...  2.984215e+07   \n",
      "3                  5                  3                  3  ...  2.991377e+07   \n",
      "4                  5                  3                  3  ...  2.981470e+07   \n",
      "...              ...                ...                ...  ...           ...   \n",
      "123112             1                  0                  0  ...  0.000000e+00   \n",
      "123113             1                  0                  0  ...  0.000000e+00   \n",
      "123114             1                  0                  0  ...  0.000000e+00   \n",
      "123115             1                  0                  0  ...  0.000000e+00   \n",
      "123116             1                  0                  0  ...  0.000000e+00   \n",
      "\n",
      "            idle.max      idle.tot      idle.avg  idle.std  \\\n",
      "0       2.972918e+07  2.972918e+07  2.972918e+07       0.0   \n",
      "1       2.985528e+07  2.985528e+07  2.985528e+07       0.0   \n",
      "2       2.984215e+07  2.984215e+07  2.984215e+07       0.0   \n",
      "3       2.991377e+07  2.991377e+07  2.991377e+07       0.0   \n",
      "4       2.981470e+07  2.981470e+07  2.981470e+07       0.0   \n",
      "...              ...           ...           ...       ...   \n",
      "123112  0.000000e+00  0.000000e+00  0.000000e+00       0.0   \n",
      "123113  0.000000e+00  0.000000e+00  0.000000e+00       0.0   \n",
      "123114  0.000000e+00  0.000000e+00  0.000000e+00       0.0   \n",
      "123115  0.000000e+00  0.000000e+00  0.000000e+00       0.0   \n",
      "123116  0.000000e+00  0.000000e+00  0.000000e+00       0.0   \n",
      "\n",
      "        fwd_init_window_size  bwd_init_window_size  fwd_last_window_size  \\\n",
      "0                      64240                 26847                   502   \n",
      "1                      64240                 26847                   502   \n",
      "2                      64240                 26847                   502   \n",
      "3                      64240                 26847                   502   \n",
      "4                      64240                 26847                   502   \n",
      "...                      ...                   ...                   ...   \n",
      "123112                  1024                     0                  1024   \n",
      "123113                  1024                     0                  1024   \n",
      "123114                  1024                     0                  1024   \n",
      "123115                  1024                     0                  1024   \n",
      "123116                  1024                     0                  1024   \n",
      "\n",
      "                Attack_type  encoded_attack  \n",
      "0              MQTT_Publish               0  \n",
      "1              MQTT_Publish               0  \n",
      "2              MQTT_Publish               0  \n",
      "3              MQTT_Publish               0  \n",
      "4              MQTT_Publish               0  \n",
      "...                     ...             ...  \n",
      "123112  NMAP_XMAS_TREE_SCAN               1  \n",
      "123113  NMAP_XMAS_TREE_SCAN               1  \n",
      "123114  NMAP_XMAS_TREE_SCAN               1  \n",
      "123115  NMAP_XMAS_TREE_SCAN               1  \n",
      "123116  NMAP_XMAS_TREE_SCAN               1  \n",
      "\n",
      "[123117 rows x 86 columns]\n"
     ]
    }
   ],
   "source": [
    "# label encoding za pretvaranje kategoricku u numericku target varijablu (neka varijacijana temu)\n",
    "\n",
    "# Definisanje koje vrste želimo da označimo kao 1 (napad), a koje kao 0 (jer nije napad nego normalna aktivnost)\n",
    "attack_mapping = {\n",
    "    'MQTT_Publish': 0, 'Thing_Speak': 0, 'Wipro_bulb': 0, 'DOS_SYN_Hping': 1, 'ARP_poisioning': 1, 'NMAP_UDP_SCAN': 1,\n",
    "    'NMAP_XMAS_TREE_SCAN': 1, 'NMAP_OS_DETECTION': 1, 'NMAP_TCP_scan': 1, 'DDOS_Slowloris': 1, 'DOS_SYN_Hping' : 1,\n",
    "    'Metasploit_Brute_Force_SSH': 1, 'NMAP_FIN_SCAN': 1, \n",
    "}\n",
    "\n",
    "# Primenite mapiranje\n",
    "dt['encoded_attack'] = dt['Attack_type'].map(attack_mapping)\n",
    "print(dt)"
   ]
  },
  {
   "cell_type": "code",
   "execution_count": 60,
   "id": "59d29df0",
   "metadata": {},
   "outputs": [
    {
     "data": {
      "text/html": [
       "<div>\n",
       "<style scoped>\n",
       "    .dataframe tbody tr th:only-of-type {\n",
       "        vertical-align: middle;\n",
       "    }\n",
       "\n",
       "    .dataframe tbody tr th {\n",
       "        vertical-align: top;\n",
       "    }\n",
       "\n",
       "    .dataframe thead th {\n",
       "        text-align: right;\n",
       "    }\n",
       "</style>\n",
       "<table border=\"1\" class=\"dataframe\">\n",
       "  <thead>\n",
       "    <tr style=\"text-align: right;\">\n",
       "      <th></th>\n",
       "      <th>no</th>\n",
       "      <th>id.orig_p</th>\n",
       "      <th>id.resp_p</th>\n",
       "      <th>proto</th>\n",
       "      <th>service</th>\n",
       "      <th>flow_duration</th>\n",
       "      <th>fwd_pkts_tot</th>\n",
       "      <th>bwd_pkts_tot</th>\n",
       "      <th>fwd_data_pkts_tot</th>\n",
       "      <th>bwd_data_pkts_tot</th>\n",
       "      <th>...</th>\n",
       "      <th>active.std</th>\n",
       "      <th>idle.min</th>\n",
       "      <th>idle.max</th>\n",
       "      <th>idle.tot</th>\n",
       "      <th>idle.avg</th>\n",
       "      <th>idle.std</th>\n",
       "      <th>fwd_init_window_size</th>\n",
       "      <th>bwd_init_window_size</th>\n",
       "      <th>fwd_last_window_size</th>\n",
       "      <th>encoded_attack</th>\n",
       "    </tr>\n",
       "  </thead>\n",
       "  <tbody>\n",
       "    <tr>\n",
       "      <th>0</th>\n",
       "      <td>0</td>\n",
       "      <td>38667</td>\n",
       "      <td>1883</td>\n",
       "      <td>tcp</td>\n",
       "      <td>mqtt</td>\n",
       "      <td>32.011598</td>\n",
       "      <td>9</td>\n",
       "      <td>5</td>\n",
       "      <td>3</td>\n",
       "      <td>3</td>\n",
       "      <td>...</td>\n",
       "      <td>0.0</td>\n",
       "      <td>2.972918e+07</td>\n",
       "      <td>2.972918e+07</td>\n",
       "      <td>2.972918e+07</td>\n",
       "      <td>2.972918e+07</td>\n",
       "      <td>0.0</td>\n",
       "      <td>64240</td>\n",
       "      <td>26847</td>\n",
       "      <td>502</td>\n",
       "      <td>0</td>\n",
       "    </tr>\n",
       "    <tr>\n",
       "      <th>1</th>\n",
       "      <td>1</td>\n",
       "      <td>51143</td>\n",
       "      <td>1883</td>\n",
       "      <td>tcp</td>\n",
       "      <td>mqtt</td>\n",
       "      <td>31.883584</td>\n",
       "      <td>9</td>\n",
       "      <td>5</td>\n",
       "      <td>3</td>\n",
       "      <td>3</td>\n",
       "      <td>...</td>\n",
       "      <td>0.0</td>\n",
       "      <td>2.985528e+07</td>\n",
       "      <td>2.985528e+07</td>\n",
       "      <td>2.985528e+07</td>\n",
       "      <td>2.985528e+07</td>\n",
       "      <td>0.0</td>\n",
       "      <td>64240</td>\n",
       "      <td>26847</td>\n",
       "      <td>502</td>\n",
       "      <td>0</td>\n",
       "    </tr>\n",
       "    <tr>\n",
       "      <th>2</th>\n",
       "      <td>2</td>\n",
       "      <td>44761</td>\n",
       "      <td>1883</td>\n",
       "      <td>tcp</td>\n",
       "      <td>mqtt</td>\n",
       "      <td>32.124053</td>\n",
       "      <td>9</td>\n",
       "      <td>5</td>\n",
       "      <td>3</td>\n",
       "      <td>3</td>\n",
       "      <td>...</td>\n",
       "      <td>0.0</td>\n",
       "      <td>2.984215e+07</td>\n",
       "      <td>2.984215e+07</td>\n",
       "      <td>2.984215e+07</td>\n",
       "      <td>2.984215e+07</td>\n",
       "      <td>0.0</td>\n",
       "      <td>64240</td>\n",
       "      <td>26847</td>\n",
       "      <td>502</td>\n",
       "      <td>0</td>\n",
       "    </tr>\n",
       "    <tr>\n",
       "      <th>3</th>\n",
       "      <td>3</td>\n",
       "      <td>60893</td>\n",
       "      <td>1883</td>\n",
       "      <td>tcp</td>\n",
       "      <td>mqtt</td>\n",
       "      <td>31.961063</td>\n",
       "      <td>9</td>\n",
       "      <td>5</td>\n",
       "      <td>3</td>\n",
       "      <td>3</td>\n",
       "      <td>...</td>\n",
       "      <td>0.0</td>\n",
       "      <td>2.991377e+07</td>\n",
       "      <td>2.991377e+07</td>\n",
       "      <td>2.991377e+07</td>\n",
       "      <td>2.991377e+07</td>\n",
       "      <td>0.0</td>\n",
       "      <td>64240</td>\n",
       "      <td>26847</td>\n",
       "      <td>502</td>\n",
       "      <td>0</td>\n",
       "    </tr>\n",
       "    <tr>\n",
       "      <th>4</th>\n",
       "      <td>4</td>\n",
       "      <td>51087</td>\n",
       "      <td>1883</td>\n",
       "      <td>tcp</td>\n",
       "      <td>mqtt</td>\n",
       "      <td>31.902362</td>\n",
       "      <td>9</td>\n",
       "      <td>5</td>\n",
       "      <td>3</td>\n",
       "      <td>3</td>\n",
       "      <td>...</td>\n",
       "      <td>0.0</td>\n",
       "      <td>2.981470e+07</td>\n",
       "      <td>2.981470e+07</td>\n",
       "      <td>2.981470e+07</td>\n",
       "      <td>2.981470e+07</td>\n",
       "      <td>0.0</td>\n",
       "      <td>64240</td>\n",
       "      <td>26847</td>\n",
       "      <td>502</td>\n",
       "      <td>0</td>\n",
       "    </tr>\n",
       "    <tr>\n",
       "      <th>5</th>\n",
       "      <td>5</td>\n",
       "      <td>48579</td>\n",
       "      <td>1883</td>\n",
       "      <td>tcp</td>\n",
       "      <td>mqtt</td>\n",
       "      <td>31.869686</td>\n",
       "      <td>9</td>\n",
       "      <td>5</td>\n",
       "      <td>3</td>\n",
       "      <td>3</td>\n",
       "      <td>...</td>\n",
       "      <td>0.0</td>\n",
       "      <td>2.982555e+07</td>\n",
       "      <td>2.982555e+07</td>\n",
       "      <td>2.982555e+07</td>\n",
       "      <td>2.982555e+07</td>\n",
       "      <td>0.0</td>\n",
       "      <td>64240</td>\n",
       "      <td>26847</td>\n",
       "      <td>502</td>\n",
       "      <td>0</td>\n",
       "    </tr>\n",
       "    <tr>\n",
       "      <th>6</th>\n",
       "      <td>6</td>\n",
       "      <td>54063</td>\n",
       "      <td>1883</td>\n",
       "      <td>tcp</td>\n",
       "      <td>mqtt</td>\n",
       "      <td>32.094711</td>\n",
       "      <td>9</td>\n",
       "      <td>5</td>\n",
       "      <td>3</td>\n",
       "      <td>3</td>\n",
       "      <td>...</td>\n",
       "      <td>0.0</td>\n",
       "      <td>2.982342e+07</td>\n",
       "      <td>2.982342e+07</td>\n",
       "      <td>2.982342e+07</td>\n",
       "      <td>2.982342e+07</td>\n",
       "      <td>0.0</td>\n",
       "      <td>64240</td>\n",
       "      <td>26847</td>\n",
       "      <td>502</td>\n",
       "      <td>0</td>\n",
       "    </tr>\n",
       "    <tr>\n",
       "      <th>7</th>\n",
       "      <td>7</td>\n",
       "      <td>33457</td>\n",
       "      <td>1883</td>\n",
       "      <td>tcp</td>\n",
       "      <td>mqtt</td>\n",
       "      <td>32.104011</td>\n",
       "      <td>9</td>\n",
       "      <td>5</td>\n",
       "      <td>3</td>\n",
       "      <td>3</td>\n",
       "      <td>...</td>\n",
       "      <td>0.0</td>\n",
       "      <td>2.979543e+07</td>\n",
       "      <td>2.979543e+07</td>\n",
       "      <td>2.979543e+07</td>\n",
       "      <td>2.979543e+07</td>\n",
       "      <td>0.0</td>\n",
       "      <td>64240</td>\n",
       "      <td>26847</td>\n",
       "      <td>502</td>\n",
       "      <td>0</td>\n",
       "    </tr>\n",
       "    <tr>\n",
       "      <th>8</th>\n",
       "      <td>8</td>\n",
       "      <td>52181</td>\n",
       "      <td>1883</td>\n",
       "      <td>tcp</td>\n",
       "      <td>mqtt</td>\n",
       "      <td>32.026967</td>\n",
       "      <td>9</td>\n",
       "      <td>5</td>\n",
       "      <td>3</td>\n",
       "      <td>3</td>\n",
       "      <td>...</td>\n",
       "      <td>0.0</td>\n",
       "      <td>2.966162e+07</td>\n",
       "      <td>2.966162e+07</td>\n",
       "      <td>2.966162e+07</td>\n",
       "      <td>2.966162e+07</td>\n",
       "      <td>0.0</td>\n",
       "      <td>64240</td>\n",
       "      <td>26847</td>\n",
       "      <td>502</td>\n",
       "      <td>0</td>\n",
       "    </tr>\n",
       "    <tr>\n",
       "      <th>9</th>\n",
       "      <td>9</td>\n",
       "      <td>53469</td>\n",
       "      <td>1883</td>\n",
       "      <td>tcp</td>\n",
       "      <td>mqtt</td>\n",
       "      <td>32.048637</td>\n",
       "      <td>9</td>\n",
       "      <td>5</td>\n",
       "      <td>3</td>\n",
       "      <td>3</td>\n",
       "      <td>...</td>\n",
       "      <td>0.0</td>\n",
       "      <td>2.977845e+07</td>\n",
       "      <td>2.977845e+07</td>\n",
       "      <td>2.977845e+07</td>\n",
       "      <td>2.977845e+07</td>\n",
       "      <td>0.0</td>\n",
       "      <td>64240</td>\n",
       "      <td>26847</td>\n",
       "      <td>502</td>\n",
       "      <td>0</td>\n",
       "    </tr>\n",
       "  </tbody>\n",
       "</table>\n",
       "<p>10 rows × 85 columns</p>\n",
       "</div>"
      ],
      "text/plain": [
       "   no  id.orig_p  id.resp_p proto service  flow_duration  fwd_pkts_tot  \\\n",
       "0   0      38667       1883   tcp    mqtt      32.011598             9   \n",
       "1   1      51143       1883   tcp    mqtt      31.883584             9   \n",
       "2   2      44761       1883   tcp    mqtt      32.124053             9   \n",
       "3   3      60893       1883   tcp    mqtt      31.961063             9   \n",
       "4   4      51087       1883   tcp    mqtt      31.902362             9   \n",
       "5   5      48579       1883   tcp    mqtt      31.869686             9   \n",
       "6   6      54063       1883   tcp    mqtt      32.094711             9   \n",
       "7   7      33457       1883   tcp    mqtt      32.104011             9   \n",
       "8   8      52181       1883   tcp    mqtt      32.026967             9   \n",
       "9   9      53469       1883   tcp    mqtt      32.048637             9   \n",
       "\n",
       "   bwd_pkts_tot  fwd_data_pkts_tot  bwd_data_pkts_tot  ...  active.std  \\\n",
       "0             5                  3                  3  ...         0.0   \n",
       "1             5                  3                  3  ...         0.0   \n",
       "2             5                  3                  3  ...         0.0   \n",
       "3             5                  3                  3  ...         0.0   \n",
       "4             5                  3                  3  ...         0.0   \n",
       "5             5                  3                  3  ...         0.0   \n",
       "6             5                  3                  3  ...         0.0   \n",
       "7             5                  3                  3  ...         0.0   \n",
       "8             5                  3                  3  ...         0.0   \n",
       "9             5                  3                  3  ...         0.0   \n",
       "\n",
       "       idle.min      idle.max      idle.tot      idle.avg  idle.std  \\\n",
       "0  2.972918e+07  2.972918e+07  2.972918e+07  2.972918e+07       0.0   \n",
       "1  2.985528e+07  2.985528e+07  2.985528e+07  2.985528e+07       0.0   \n",
       "2  2.984215e+07  2.984215e+07  2.984215e+07  2.984215e+07       0.0   \n",
       "3  2.991377e+07  2.991377e+07  2.991377e+07  2.991377e+07       0.0   \n",
       "4  2.981470e+07  2.981470e+07  2.981470e+07  2.981470e+07       0.0   \n",
       "5  2.982555e+07  2.982555e+07  2.982555e+07  2.982555e+07       0.0   \n",
       "6  2.982342e+07  2.982342e+07  2.982342e+07  2.982342e+07       0.0   \n",
       "7  2.979543e+07  2.979543e+07  2.979543e+07  2.979543e+07       0.0   \n",
       "8  2.966162e+07  2.966162e+07  2.966162e+07  2.966162e+07       0.0   \n",
       "9  2.977845e+07  2.977845e+07  2.977845e+07  2.977845e+07       0.0   \n",
       "\n",
       "   fwd_init_window_size  bwd_init_window_size  fwd_last_window_size  \\\n",
       "0                 64240                 26847                   502   \n",
       "1                 64240                 26847                   502   \n",
       "2                 64240                 26847                   502   \n",
       "3                 64240                 26847                   502   \n",
       "4                 64240                 26847                   502   \n",
       "5                 64240                 26847                   502   \n",
       "6                 64240                 26847                   502   \n",
       "7                 64240                 26847                   502   \n",
       "8                 64240                 26847                   502   \n",
       "9                 64240                 26847                   502   \n",
       "\n",
       "   encoded_attack  \n",
       "0               0  \n",
       "1               0  \n",
       "2               0  \n",
       "3               0  \n",
       "4               0  \n",
       "5               0  \n",
       "6               0  \n",
       "7               0  \n",
       "8               0  \n",
       "9               0  \n",
       "\n",
       "[10 rows x 85 columns]"
      ]
     },
     "execution_count": 60,
     "metadata": {},
     "output_type": "execute_result"
    }
   ],
   "source": [
    "# dropovala bih staru kolonu koja predstavlja vrstu napada\n",
    "# moramo specifirati i axis to je znak da se brise kolone\n",
    "dt.drop(['Attack_type'], axis=1, inplace=True)\n",
    "dt.head(10)"
   ]
  },
  {
   "cell_type": "markdown",
   "id": "df120b12",
   "metadata": {},
   "source": [
    "# ISTRAŽIVANJE i PRIPREMA PODATAKA\n",
    "\n",
    "--> da bih razumela dataset malo\n",
    "file:///C:/Users/user/Desktop/Rad%202024/Neki%20pronadjeni%20radovi%20-%20ML/Intrusion%20detection%20systems%20(IDS)/Quantized%20autoencoder%20(QAE)%20intrusion.pdf"
   ]
  },
  {
   "cell_type": "markdown",
   "id": "8829fd05",
   "metadata": {},
   "source": [
    "+ **Some EDA popular functions**"
   ]
  },
  {
   "cell_type": "code",
   "execution_count": null,
   "id": "492e3f63",
   "metadata": {},
   "outputs": [],
   "source": [
    "dt.info() # there is no null values in any column"
   ]
  },
  {
   "cell_type": "code",
   "execution_count": null,
   "id": "4cc11278",
   "metadata": {},
   "outputs": [],
   "source": [
    "# dealing with nulls if exists - wont be neccessary\n",
    "dt.isnull().sum() # or check that with this function"
   ]
  },
  {
   "cell_type": "code",
   "execution_count": null,
   "id": "c3d673df",
   "metadata": {},
   "outputs": [],
   "source": [
    "# dropping duplicates if exists\n",
    "print(dt.duplicated().sum())\n",
    "# --> there is no duplicated rows"
   ]
  },
  {
   "cell_type": "markdown",
   "id": "b326fe6c",
   "metadata": {},
   "source": [
    "Outliers??? - nad cim prikazati da li postoje outliers --> 1. Outlieri na nivou obeležja (features) treba mozda staviti ovde i 2. Outlieri na nivou celog skupa podataka (dataset) - definisani dole nakon konvertovanja kat u num vrednosti"
   ]
  },
  {
   "cell_type": "markdown",
   "id": "132bb8a5",
   "metadata": {},
   "source": [
    "+ **Proveravam broj uređaja pošiljalaca i primalaca**"
   ]
  },
  {
   "cell_type": "code",
   "execution_count": null,
   "id": "506f3127",
   "metadata": {},
   "outputs": [],
   "source": [
    "list_of_devices = dt['id.orig_p'].value_counts()\n",
    "len(list_of_devices)\n",
    "#--> znaci imamo 65478 uređaja sa kojih se salje, a ukupno imamo oko 112k zapisa\n",
    "# kazu da su victim devices - da li su onda svi victim, ili mogu da budu tu i attacker; svakako ne znamo iz podataka a ni iz onog rada koji ID je za koji tip uređaja (Think Speak, MQTT, Amazon Alexa, WiproBulb, Attacker....)"
   ]
  },
  {
   "cell_type": "markdown",
   "id": "278fab49",
   "metadata": {},
   "source": [
    "+ **Provera protokola i zastavica**"
   ]
  },
  {
   "cell_type": "code",
   "execution_count": 53,
   "id": "4dff7df2",
   "metadata": {},
   "outputs": [
    {
     "name": "stdout",
     "output_type": "stream",
     "text": [
      "proto\n",
      "udp     12633\n",
      "icmp       57\n",
      "Name: count, dtype: int64\n",
      "12690\n",
      "['flow_FIN_flag_count', 'flow_SYN_flag_count', 'flow_RST_flag_count', 'fwd_PSH_flag_count', 'bwd_PSH_flag_count', 'flow_ACK_flag_count', 'fwd_URG_flag_count', 'bwd_URG_flag_count', 'flow_CWR_flag_count', 'flow_ECE_flag_count']\n",
      "0\n"
     ]
    }
   ],
   "source": [
    "# proveravamo da li su podaci cisti jer necemo postavljene zastavice ako nije TCP protokol\n",
    "# uzimamo torke ciji je protokol ICMP ili UDP\n",
    "list_of_proto_not_TCP = dt[dt['proto'] != 'tcp'] \n",
    "print(list_of_proto_not_TCP['proto'].value_counts())\n",
    "print(len(list_of_proto_not_TCP))\n",
    "\n",
    "# uzimamo kolone/property/feature koji se odnose na zastavice (FLAG)\n",
    "list_of_flags_in_proto_not_TCP = [col for col in dt.columns if 'flag' in col]\n",
    "print(list_of_flags_in_proto_not_TCP)\n",
    "\n",
    "# proveravamo da li u redovima koji se odnose na ICMP i UDP kolone\n",
    "# imamo vrednost za broj zastavica koji je veci od 0 (a to ne sme)\n",
    "# da bismo prosli kroz dataframe moramo koristiti iterrows (daje index and row, ne moramo oba iskoristiti)\n",
    "rows_with_flags_gt_0 = []\n",
    "for index, row in list_of_proto_not_TCP.iterrows():\n",
    "    #print(f'Row 1: {row}')\n",
    "    # Check if any flag value is greater than 0\n",
    "    if any(row[col] > 0 for col in list_of_flags_in_proto_not_TCP):\n",
    "        rows_with_flags_gt_0.append(row)\n",
    "        \n",
    "print(len(rows_with_flags_gt_0))\n",
    "\n",
    "# --> ZAKLJUCAK: nema nepravilnih podataka gledajuci ovaj aspekt"
   ]
  },
  {
   "cell_type": "markdown",
   "id": "d4c65589",
   "metadata": {},
   "source": [
    "+ **Provera da li je bilo zagusenja mreze**\n",
    "\n",
    "--> do zagusenja mreze je doslo ako je poslata ECE zastavica od strane primaoca; potrebno je i da se vratila CWR zastavica, kao i da fwd_init_window_size > fwd_last_window_size te bi značilo da se smanjila velicina prozora za slanje tj da se reagovalo na zagusenje u mrezi"
   ]
  },
  {
   "cell_type": "code",
   "execution_count": 62,
   "id": "3d9b6a0d",
   "metadata": {},
   "outputs": [
    {
     "name": "stdout",
     "output_type": "stream",
     "text": [
      "flow_ECE_flag_count\n",
      "0    110355\n",
      "1        61\n",
      "2         9\n",
      "3         1\n",
      "4         1\n",
      "Name: count, dtype: int64\n",
      "flow_CWR_flag_count\n",
      "0    110356\n",
      "2        40\n",
      "1        25\n",
      "3         5\n",
      "4         1\n",
      "Name: count, dtype: int64\n",
      "Videti da li ima redova kad je zastavica CWR postavljena, a prozor se nije smanjio?\n",
      "23\n"
     ]
    }
   ],
   "source": [
    "# preuzimamo torke sa TCP protokolom\n",
    "list_of_proto_not_TCP = dt[dt['proto'] == 'tcp'] \n",
    "ECE_flags = list_of_proto_not_TCP['flow_ECE_flag_count']\n",
    "print(ECE_flags.value_counts())\n",
    "# --> u 61 torci zastavica je poslata 1 put u flowu, u 9 slučajeva je poslata 2 put u flow...\n",
    "CWR_flags = list_of_proto_not_TCP['flow_CWR_flag_count']\n",
    "print(CWR_flags.value_counts())\n",
    "# --> broj zastavica CWR i ECE u nekom flowu ne mora biti isti, takođe moguće je da se pojavi\n",
    "# CWR zastavica a da nije bilo ECE zastavice (što vidimo da je slučaj kod jedne torke)\n",
    "\n",
    "# --> do zagusenja NIJE doslo 110355 puta (a onaj 1 put do 110356 je upitan zasto je do njega doslo)"
   ]
  },
  {
   "cell_type": "markdown",
   "id": "c4074364",
   "metadata": {},
   "source": [
    "Kad je poslat CWR i veličina prozora je morala da se smanji sad cemo proveriti da li je to slucaj"
   ]
  },
  {
   "cell_type": "code",
   "execution_count": null,
   "id": "76e4e6e4",
   "metadata": {},
   "outputs": [],
   "source": [
    "CWR_flags_yes = list_of_proto_not_TCP[list_of_proto_not_TCP['flow_CWR_flag_count'] > 0] \n",
    "window_size_not_reduced = []\n",
    "for index, row in CWR_flags_yes.iterrows():\n",
    "    # Check if any flag value is greater than 0\n",
    "    window_size_difference = row['fwd_init_window_size'] - row['fwd_last_window_size'] \n",
    "    if window_size_difference <= 0:\n",
    "        # row is series so window_size_not_reduced is list of series\n",
    "        window_size_not_reduced.append(row)\n",
    "print('Videti da li ima redova kad je zastavica CWR postavljena, a prozor se nije smanjio?')\n",
    "print(len(window_size_not_reduced))\n",
    "# zastavica je postavljena 71 put, a 23 puta prozor NIJE smanjen, to je problem --> mozda ima veze sa hakerskim napadima pa cu uraditi korelaciju da vidim uticaj"
   ]
  },
  {
   "cell_type": "markdown",
   "id": "35aeca18",
   "metadata": {},
   "source": [
    "Hocu sad da vidim da li su te 23 torke oznacene kao napad ili kao normalna aktivnost"
   ]
  },
  {
   "cell_type": "code",
   "execution_count": 69,
   "id": "19254f86",
   "metadata": {},
   "outputs": [
    {
     "name": "stdout",
     "output_type": "stream",
     "text": [
      "23\n"
     ]
    }
   ],
   "source": [
    "window_size_not_reduced = pd.DataFrame(window_size_not_reduced)\n",
    "\n",
    "declared_as_attack = window_size_not_reduced[window_size_not_reduced['encoded_attack'] == 0]\n",
    "print(len(declared_as_attack))\n",
    "\n",
    "#--> svi flowovi gde se ne smanjuje prozor kad se salje CWR su oznaceni kao NORMALNE AKTIVNOSTI iako mi deluju kao napadi\n",
    "# jer se posiljalac oglusuje na zahtev\n",
    "# pa bih zakljucila da li ce se smanjiti prozor ili ne NE UTICE TAKO na konacnu varijablu"
   ]
  },
  {
   "cell_type": "markdown",
   "id": "47d7249e",
   "metadata": {},
   "source": [
    "Zakljucila sam da je u 70 torki doslo do zagusenja mreze pa da vidim da li to zagusenje utice na klasifikaciju"
   ]
  },
  {
   "cell_type": "code",
   "execution_count": 73,
   "id": "140537ea",
   "metadata": {},
   "outputs": [
    {
     "name": "stdout",
     "output_type": "stream",
     "text": [
      "Pearson's correlation coefficient: -0.07193742433109017\n"
     ]
    }
   ],
   "source": [
    "# dodacu u dataset jos jedan property koji oznacava da li je doslo do zagusenja ili nije 'network_congestion'\n",
    "# Dodavanje novog obeležja 'network_congestion' na osnovu 'number_of_flags'\n",
    "dt['congestion_network'] = dt['flow_ECE_flag_count'].apply(lambda x: 1 if x > 0 else 0)\n",
    "#print(dt.head())\n",
    "\n",
    "# --> sad hocu da vidim korelaciju izmedju zakrcenja mreze i toga da li je nesto napad ili nije\n",
    "\n",
    "# Izračunavanje Pearsonovog koeficijenta korelacije\n",
    "correlation = dt['congestion_network'].corr(dt['encoded_attack'])\n",
    "print(f\"Pearson's correlation coefficient: {correlation}\")\n"
   ]
  },
  {
   "cell_type": "markdown",
   "id": "997f60b9",
   "metadata": {},
   "source": [
    "**--> korelacija je -0.07 sto znaci da je blizu 0 pa je zanemarljiva te zakljucujemo da zakrcenje mreze \n",
    "kao ni velicina prozora ne uticu na to da li je nesto napad ili ne**"
   ]
  },
  {
   "cell_type": "markdown",
   "id": "75c13b53",
   "metadata": {},
   "source": [
    "+ **Pregled kategorickih podataka kako bi se konvertovali posle u numericke podatke**"
   ]
  },
  {
   "cell_type": "code",
   "execution_count": null,
   "id": "565cd05d",
   "metadata": {},
   "outputs": [],
   "source": [
    "# Izdvajanje string i boolean obeležja\n",
    "selected_features = dt.select_dtypes(include=['object', 'bool'])\n",
    "print(selected_features)\n",
    "#--> proto i service su kategoricke"
   ]
  },
  {
   "cell_type": "code",
   "execution_count": null,
   "id": "43166f50",
   "metadata": {},
   "outputs": [],
   "source": [
    "# da vidimo koliko ima vrednosti za kategoricke\n",
    "print(dt['proto'].unique())\n",
    "print(dt['service'].unique())"
   ]
  },
  {
   "cell_type": "code",
   "execution_count": null,
   "id": "7b21b60a",
   "metadata": {},
   "outputs": [],
   "source": [
    "print(dt['proto'].value_counts())\n",
    "print(dt['service'].value_counts())"
   ]
  },
  {
   "cell_type": "code",
   "execution_count": null,
   "id": "43c3e091",
   "metadata": {},
   "outputs": [],
   "source": [
    "# service ima i vrednost - pa cu proveriti koliko torki je ima\n",
    "count_dash_in_service = dt['service'].value_counts()['-']\n",
    "print(f\"Broj torki sa vrednošću '-': {count_dash_in_service}\")"
   ]
  },
  {
   "cell_type": "code",
   "execution_count": null,
   "id": "fa969ff2",
   "metadata": {},
   "outputs": [],
   "source": [
    "# Zamene vrednosti \"-\" za \n",
    "dt['service'].replace('-', 'unknown', inplace=True)\n",
    "print(dt['service'].unique())"
   ]
  },
  {
   "cell_type": "markdown",
   "id": "e009f817",
   "metadata": {},
   "source": [
    "# Koverzija podataka"
   ]
  },
  {
   "cell_type": "markdown",
   "id": "02b58117",
   "metadata": {},
   "source": [
    "+ **ONE HOT ENCODING** za obeležje **PROTO**"
   ]
  },
  {
   "cell_type": "code",
   "execution_count": null,
   "id": "c04fb9bb",
   "metadata": {},
   "outputs": [],
   "source": [
    "from sklearn.preprocessing import OneHotEncoder\n",
    "\n",
    "# Kreiranje instance OneHotEncoder-a\n",
    "encoder = OneHotEncoder()\n",
    "\n",
    "# Enkodiranje kategoričke kolone 'category'\n",
    "encoded_features = encoder.fit_transform(dt[['proto']]).astype(int)\n",
    "\n",
    "# Konvertovanje u DataFrame\n",
    "encoded_dt = pd.DataFrame(encoded_features.toarray(), columns=encoder.get_feature_names_out(['proto']))\n",
    "\n",
    "# Spajanje enkodiranih kolona sa originalnim DataFrame-om  i smestanje u taj originalni dataframe\n",
    "dt = pd.concat([dt, encoded_dt], axis=1)\n",
    "\n",
    "# brisanje stare kolone PROTO\n",
    "dt = dt.drop(['proto'], axis=1)\n",
    "\n",
    "# Prikaz rezultata\n",
    "print(dt)"
   ]
  },
  {
   "cell_type": "markdown",
   "id": "09fee787",
   "metadata": {},
   "source": [
    "+ **BINARY ENCODING** za obeležje **SERVICE**"
   ]
  },
  {
   "cell_type": "code",
   "execution_count": null,
   "id": "fa4edaba",
   "metadata": {},
   "outputs": [],
   "source": [
    "from category_encoders import BaseNEncoder\n",
    "# znaci svaku vrednost predstavimo u binarnom broju npr MQTT_Publish bude 0001 pa nda Thing_Speak 0010 itd\n",
    "# Kreiranje instance BinaryEncoder-a sa specificiranim prefix-om\n",
    "# cols specificira koju kolonu kodiramo\n",
    "# Ako postavite base=2, enkodiraće se u binarnom sistemu.\n",
    "encoder = BaseNEncoder(cols=['service'], base=2)\n",
    "\n",
    "# Enkodiranje kategoričke kolone 'Service'\n",
    "dt_bin_encoded = encoder.fit_transform(dt['service'])\n",
    "\n",
    "# Dodavanje enkodiranih kolona u originalni DataFrame\n",
    "dt = pd.concat([dt, dt_bin_encoded], axis=1)\n",
    "\n",
    "# brisanje stare kolone SERVICE\n",
    "dt = dt.drop(['service'], axis=1)\n",
    "\n",
    "# Prikaz rezultata\n",
    "print(dt)"
   ]
  },
  {
   "cell_type": "code",
   "execution_count": null,
   "id": "e2a115b0",
   "metadata": {},
   "outputs": [],
   "source": [
    "print(dt)"
   ]
  },
  {
   "cell_type": "markdown",
   "id": "5535a81f",
   "metadata": {},
   "source": [
    "# OUTLIERS (part 2) - multivariate outliers"
   ]
  },
  {
   "cell_type": "markdown",
   "id": "db7e4a55",
   "metadata": {},
   "source": [
    "Nadovezivanje na one outliere gore (ne moramo prikazivati ovo)"
   ]
  },
  {
   "cell_type": "markdown",
   "id": "dd7718dc",
   "metadata": {},
   "source": [
    "Outliers na nivou celog dataseta (multivarijantni outlieri)"
   ]
  },
  {
   "cell_type": "code",
   "execution_count": null,
   "id": "1e44426f",
   "metadata": {},
   "outputs": [],
   "source": [
    "from sklearn.ensemble import IsolationForest\n",
    "\n",
    "# Korišćenje IsolationForest za identifikaciju outliera na nivou skupa podataka\n",
    "iso_forest = IsolationForest(contamination=0.2, random_state=42)\n",
    "outliers = iso_forest.fit_predict(dt)\n",
    "\n",
    "# Adding the outlier labels to the DataFrame\n",
    "dt['outlier'] = outliers\n",
    "\n",
    "# Show only rows showed as outliers\n",
    "outliers_dt = dt[dt['outlier'] == -1]\n",
    "#prikaz samo outlier-a ne celog seta\n",
    "print(\"Outliers in the dataset:\")\n",
    "print(outliers_dt)\n",
    "print(outliers_dt.count())\n",
    "\n",
    "#brisemo kolonu sa outlierima ali treba odluciti sta sa tih 90 redova???\n",
    "dt = dt.drop(columns=['outlier'])"
   ]
  },
  {
   "cell_type": "markdown",
   "id": "fd183bc0",
   "metadata": {},
   "source": [
    "# Podela na X i na y set"
   ]
  },
  {
   "cell_type": "code",
   "execution_count": null,
   "id": "b775185d",
   "metadata": {},
   "outputs": [],
   "source": [
    "#prvo moram da podelim podatke na X (svi atributi) i na y (target varijabla)\n",
    "#ovo nam treba i zbog podele na test i training set\n",
    "\n",
    "#Extracting features (all columns except the last one = label)\n",
    "all_features = dt.columns[:-1].tolist()\n",
    "X = dt[all_features]\n",
    "\n",
    "y = dt['encoded_attack']"
   ]
  },
  {
   "cell_type": "markdown",
   "id": "4ff68ef2",
   "metadata": {},
   "source": [
    "# Provera BALANSIRANOSTI"
   ]
  },
  {
   "cell_type": "markdown",
   "id": "23e929f2",
   "metadata": {},
   "source": [
    "--> Numericki prikaz balansiranosti"
   ]
  },
  {
   "cell_type": "code",
   "execution_count": null,
   "id": "87377fbb",
   "metadata": {},
   "outputs": [],
   "source": [
    "# provera balansiranosti podataka \n",
    "freq = dt['encoded_attack'].value_counts()\n",
    "print(freq)"
   ]
  },
  {
   "cell_type": "code",
   "execution_count": null,
   "id": "7ea7dff5",
   "metadata": {},
   "outputs": [],
   "source": [
    "# provera frekvencije\n",
    "print(dt['encoded_attack'].value_counts(normalize=True))\n",
    "# 0 je normalan saobracaj (11%) a 1 je napad (89%)\n",
    "\n",
    "# druga naredba - isto radi\n",
    "# Print the ratio of fraud cases\n",
    "#print(freq / len(dt))"
   ]
  },
  {
   "cell_type": "markdown",
   "id": "fd93dbbe",
   "metadata": {},
   "source": [
    "--> Graficki prikaz balansiranosti"
   ]
  },
  {
   "cell_type": "code",
   "execution_count": null,
   "id": "894b69b9",
   "metadata": {},
   "outputs": [],
   "source": [
    "#you'll look at the data and visualize the fraud to non-fraud ratio.\n",
    "# def function for ploting the distribution of 0 and 1\n",
    "# make a fun because I wil use it later too\n",
    "def plot_data(target_data, title):\n",
    "    plt.figure(figsize=(8,6))\n",
    "    sns.countplot(x=target_data, palette='Set3')\n",
    "    plt.title(title)\n",
    "    plt.xlabel('Labels')\n",
    "    plt.ylabel('Number of occurrences')"
   ]
  },
  {
   "cell_type": "code",
   "execution_count": null,
   "id": "2a116f75",
   "metadata": {},
   "outputs": [],
   "source": [
    "# pozivam fju koja je napisana ranije\n",
    "plot_data(y, 'Distribution of different class label')"
   ]
  },
  {
   "cell_type": "markdown",
   "id": "e84c90c6",
   "metadata": {},
   "source": [
    "# TRAIN/TEST split"
   ]
  },
  {
   "cell_type": "code",
   "execution_count": null,
   "id": "d03bb3e8",
   "metadata": {},
   "outputs": [],
   "source": [
    "from sklearn.model_selection import train_test_split\n",
    "# 80% za treningi 20% za test - standardna podela u masinskom ucenju\n",
    "# osigurava da podela podataka na trening i test skupove bude ista svaki put kada pokrenete kod,\n",
    "# pod uslovom da je ostatak koda i podaci isti\n",
    "X_train, X_test, y_train, y_test = train_test_split(X, y, test_size=0.2, random_state=42)\n",
    "\n",
    "# Proverite oblik podataka\n",
    "print(\"Oblik X_train:\", X_train.shape)\n",
    "print(\"Oblik X_test:\", X_test.shape)\n",
    "print(\"Oblik y_train:\", y_train.shape)\n",
    "print(\"Oblik y_test:\", y_test.shape)"
   ]
  },
  {
   "cell_type": "markdown",
   "id": "6c90ffbd",
   "metadata": {},
   "source": [
    "# BALANSIRANJE PODATKA - SMOTE"
   ]
  },
  {
   "cell_type": "code",
   "execution_count": null,
   "id": "753edb97",
   "metadata": {},
   "outputs": [],
   "source": [
    "from imblearn.over_sampling import SMOTE\n",
    "\n",
    "# Define the resampling method\n",
    "method = SMOTE()\n",
    "\n",
    "# Create the resampled feature set - SAMO NA TRENIRANIM PODACIMA - mora i na X i na y jer pravi torku za sve kolone naravno\n",
    "X_resampled, y_resampled = method.fit_resample(X_train, y_train)\n",
    "\n",
    "# Plot the resampled data\n",
    "plot_data(y_resampled, 'Distribution of different RESAMPLED class label')"
   ]
  },
  {
   "cell_type": "code",
   "execution_count": null,
   "id": "35b124ae",
   "metadata": {},
   "outputs": [],
   "source": []
  }
 ],
 "metadata": {
  "kernelspec": {
   "display_name": "Python 3 (ipykernel)",
   "language": "python",
   "name": "python3"
  },
  "language_info": {
   "codemirror_mode": {
    "name": "ipython",
    "version": 3
   },
   "file_extension": ".py",
   "mimetype": "text/x-python",
   "name": "python",
   "nbconvert_exporter": "python",
   "pygments_lexer": "ipython3",
   "version": "3.11.4"
  }
 },
 "nbformat": 4,
 "nbformat_minor": 5
}
