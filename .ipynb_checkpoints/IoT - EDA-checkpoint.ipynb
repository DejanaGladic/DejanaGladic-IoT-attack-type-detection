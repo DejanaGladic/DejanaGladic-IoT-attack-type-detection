{
 "cells": [
  {
   "cell_type": "markdown",
   "id": "0b9c7af7",
   "metadata": {},
   "source": [
    "# Link do dataseta https://www.kaggle.com/datasets/supplejade/rt-iot2022real-time-internet-of-things/data"
   ]
  },
  {
   "cell_type": "code",
   "execution_count": 2,
   "id": "5f9b03d8",
   "metadata": {
    "scrolled": false
   },
   "outputs": [],
   "source": [
    "import pandas as pd\n",
    "import numpy as np\n",
    "import matplotlib.pyplot as plt\n",
    "import seaborn as sns\n",
    "\n",
    "import warnings\n",
    "warnings.filterwarnings(\"ignore\")"
   ]
  },
  {
   "cell_type": "code",
   "execution_count": 3,
   "id": "4d122a7f",
   "metadata": {},
   "outputs": [
    {
     "data": {
      "text/plain": [
       "(123117, 85)"
      ]
     },
     "execution_count": 3,
     "metadata": {},
     "output_type": "execute_result"
    }
   ],
   "source": [
    "dt = pd.read_csv('RT_IOT2022.csv')\n",
    "#dt.head(10)\n",
    "dt.shape\n",
    "# --> imamo 123.117 redove (zapisa) i 85 kolona\n",
    "# prema Andrew Ng ako dataset ima vise od 10k redova onda predstavlja large dataset"
   ]
  },
  {
   "cell_type": "markdown",
   "id": "df120b12",
   "metadata": {},
   "source": [
    "# PREGLED PODATAKA"
   ]
  },
  {
   "cell_type": "markdown",
   "id": "75c13b53",
   "metadata": {},
   "source": [
    "1. Pregled kategorickih podataka kako bi se konvertovali posle u numericke podatke"
   ]
  },
  {
   "cell_type": "code",
   "execution_count": 4,
   "id": "565cd05d",
   "metadata": {},
   "outputs": [
    {
     "name": "stdout",
     "output_type": "stream",
     "text": [
      "       proto service          Attack_type\n",
      "0        tcp    mqtt         MQTT_Publish\n",
      "1        tcp    mqtt         MQTT_Publish\n",
      "2        tcp    mqtt         MQTT_Publish\n",
      "3        tcp    mqtt         MQTT_Publish\n",
      "4        tcp    mqtt         MQTT_Publish\n",
      "...      ...     ...                  ...\n",
      "123112   tcp       -  NMAP_XMAS_TREE_SCAN\n",
      "123113   tcp       -  NMAP_XMAS_TREE_SCAN\n",
      "123114   tcp       -  NMAP_XMAS_TREE_SCAN\n",
      "123115   tcp       -  NMAP_XMAS_TREE_SCAN\n",
      "123116   tcp       -  NMAP_XMAS_TREE_SCAN\n",
      "\n",
      "[123117 rows x 3 columns]\n"
     ]
    }
   ],
   "source": [
    "# Izdvajanje string i boolean obeležja\n",
    "selected_features = dt.select_dtypes(include=['object', 'bool'])\n",
    "print(selected_features)\n",
    "#--> proto i service su kategoricke"
   ]
  },
  {
   "cell_type": "code",
   "execution_count": 5,
   "id": "43166f50",
   "metadata": {},
   "outputs": [
    {
     "name": "stdout",
     "output_type": "stream",
     "text": [
      "['tcp' 'udp' 'icmp']\n",
      "['mqtt' '-' 'http' 'dns' 'ntp' 'ssl' 'dhcp' 'irc' 'ssh' 'radius']\n"
     ]
    }
   ],
   "source": [
    "# da vidimo koliko ima vrednosti za kategoricke\n",
    "print(dt['proto'].unique())\n",
    "print(dt['service'].unique())"
   ]
  },
  {
   "cell_type": "code",
   "execution_count": 6,
   "id": "7b21b60a",
   "metadata": {},
   "outputs": [
    {
     "name": "stdout",
     "output_type": "stream",
     "text": [
      "proto\n",
      "tcp     110427\n",
      "udp      12633\n",
      "icmp        57\n",
      "Name: count, dtype: int64\n",
      "service\n",
      "-         102861\n",
      "dns         9753\n",
      "mqtt        4132\n",
      "http        3464\n",
      "ssl         2663\n",
      "ntp          121\n",
      "dhcp          50\n",
      "irc           43\n",
      "ssh           28\n",
      "radius         2\n",
      "Name: count, dtype: int64\n"
     ]
    }
   ],
   "source": [
    "print(dt['proto'].value_counts())\n",
    "print(dt['service'].value_counts())"
   ]
  },
  {
   "cell_type": "code",
   "execution_count": 7,
   "id": "43c3e091",
   "metadata": {},
   "outputs": [
    {
     "name": "stdout",
     "output_type": "stream",
     "text": [
      "Broj torki sa vrednošću '-': 102861\n"
     ]
    }
   ],
   "source": [
    "# service ima i vrednost - pa cu proveriti koliko torki je ima\n",
    "count_dash_in_service = dt['service'].value_counts()['-']\n",
    "print(f\"Broj torki sa vrednošću '-': {count_dash_in_service}\")"
   ]
  },
  {
   "cell_type": "code",
   "execution_count": 8,
   "id": "fa969ff2",
   "metadata": {},
   "outputs": [
    {
     "name": "stdout",
     "output_type": "stream",
     "text": [
      "['mqtt' 'unknown' 'http' 'dns' 'ntp' 'ssl' 'dhcp' 'irc' 'ssh' 'radius']\n"
     ]
    }
   ],
   "source": [
    "# Zamene vrednosti \"-\" za \n",
    "dt['service'].replace('-', 'unknown', inplace=True)\n",
    "print(dt['service'].unique())"
   ]
  },
  {
   "cell_type": "markdown",
   "id": "02b58117",
   "metadata": {},
   "source": [
    "# ONE HOT ENCODING za obeležje PROTO"
   ]
  },
  {
   "cell_type": "code",
   "execution_count": 9,
   "id": "c04fb9bb",
   "metadata": {},
   "outputs": [
    {
     "name": "stdout",
     "output_type": "stream",
     "text": [
      "          no  id.orig_p  id.resp_p  service  flow_duration  fwd_pkts_tot  \\\n",
      "0          0      38667       1883     mqtt      32.011598             9   \n",
      "1          1      51143       1883     mqtt      31.883584             9   \n",
      "2          2      44761       1883     mqtt      32.124053             9   \n",
      "3          3      60893       1883     mqtt      31.961063             9   \n",
      "4          4      51087       1883     mqtt      31.902362             9   \n",
      "...      ...        ...        ...      ...            ...           ...   \n",
      "123112  2005      59247      63331  unknown       0.000006             1   \n",
      "123113  2006      59247      64623  unknown       0.000007             1   \n",
      "123114  2007      59247      64680  unknown       0.000006             1   \n",
      "123115  2008      59247      65000  unknown       0.000006             1   \n",
      "123116  2009      59247      65129  unknown       0.000006             1   \n",
      "\n",
      "        bwd_pkts_tot  fwd_data_pkts_tot  bwd_data_pkts_tot  fwd_pkts_per_sec  \\\n",
      "0                  5                  3                  3          0.281148   \n",
      "1                  5                  3                  3          0.282277   \n",
      "2                  5                  3                  3          0.280164   \n",
      "3                  5                  3                  3          0.281593   \n",
      "4                  5                  3                  3          0.282111   \n",
      "...              ...                ...                ...               ...   \n",
      "123112             1                  0                  0     167772.160000   \n",
      "123113             1                  0                  0     144631.172414   \n",
      "123114             1                  0                  0     167772.160000   \n",
      "123115             1                  0                  0     167772.160000   \n",
      "123116             1                  0                  0     167772.160000   \n",
      "\n",
      "        ...      idle.tot      idle.avg  idle.std  fwd_init_window_size  \\\n",
      "0       ...  2.972918e+07  2.972918e+07       0.0                 64240   \n",
      "1       ...  2.985528e+07  2.985528e+07       0.0                 64240   \n",
      "2       ...  2.984215e+07  2.984215e+07       0.0                 64240   \n",
      "3       ...  2.991377e+07  2.991377e+07       0.0                 64240   \n",
      "4       ...  2.981470e+07  2.981470e+07       0.0                 64240   \n",
      "...     ...           ...           ...       ...                   ...   \n",
      "123112  ...  0.000000e+00  0.000000e+00       0.0                  1024   \n",
      "123113  ...  0.000000e+00  0.000000e+00       0.0                  1024   \n",
      "123114  ...  0.000000e+00  0.000000e+00       0.0                  1024   \n",
      "123115  ...  0.000000e+00  0.000000e+00       0.0                  1024   \n",
      "123116  ...  0.000000e+00  0.000000e+00       0.0                  1024   \n",
      "\n",
      "        bwd_init_window_size  fwd_last_window_size          Attack_type  \\\n",
      "0                      26847                   502         MQTT_Publish   \n",
      "1                      26847                   502         MQTT_Publish   \n",
      "2                      26847                   502         MQTT_Publish   \n",
      "3                      26847                   502         MQTT_Publish   \n",
      "4                      26847                   502         MQTT_Publish   \n",
      "...                      ...                   ...                  ...   \n",
      "123112                     0                  1024  NMAP_XMAS_TREE_SCAN   \n",
      "123113                     0                  1024  NMAP_XMAS_TREE_SCAN   \n",
      "123114                     0                  1024  NMAP_XMAS_TREE_SCAN   \n",
      "123115                     0                  1024  NMAP_XMAS_TREE_SCAN   \n",
      "123116                     0                  1024  NMAP_XMAS_TREE_SCAN   \n",
      "\n",
      "        proto_icmp  proto_tcp  proto_udp  \n",
      "0                0          1          0  \n",
      "1                0          1          0  \n",
      "2                0          1          0  \n",
      "3                0          1          0  \n",
      "4                0          1          0  \n",
      "...            ...        ...        ...  \n",
      "123112           0          1          0  \n",
      "123113           0          1          0  \n",
      "123114           0          1          0  \n",
      "123115           0          1          0  \n",
      "123116           0          1          0  \n",
      "\n",
      "[123117 rows x 87 columns]\n"
     ]
    }
   ],
   "source": [
    "from sklearn.preprocessing import OneHotEncoder\n",
    "\n",
    "# Kreiranje instance OneHotEncoder-a\n",
    "encoder = OneHotEncoder()\n",
    "\n",
    "# Enkodiranje kategoričke kolone 'category'\n",
    "encoded_features = encoder.fit_transform(dt[['proto']]).astype(int)\n",
    "\n",
    "# Konvertovanje u DataFrame\n",
    "encoded_dt = pd.DataFrame(encoded_features.toarray(), columns=encoder.get_feature_names_out(['proto']))\n",
    "\n",
    "# Spajanje enkodiranih kolona sa originalnim DataFrame-om  i smestanje u taj originalni dataframe\n",
    "dt = pd.concat([dt, encoded_dt], axis=1)\n",
    "\n",
    "# brisanje stare kolone PROTO\n",
    "dt = dt.drop(['proto'], axis=1)\n",
    "\n",
    "# Prikaz rezultata\n",
    "print(dt)"
   ]
  },
  {
   "cell_type": "markdown",
   "id": "09fee787",
   "metadata": {},
   "source": [
    "# BINARY ENCODING za obeležje SERVICE"
   ]
  },
  {
   "cell_type": "code",
   "execution_count": 10,
   "id": "fa4edaba",
   "metadata": {},
   "outputs": [
    {
     "name": "stdout",
     "output_type": "stream",
     "text": [
      "          no  id.orig_p  id.resp_p  flow_duration  fwd_pkts_tot  bwd_pkts_tot  \\\n",
      "0          0      38667       1883      32.011598             9             5   \n",
      "1          1      51143       1883      31.883584             9             5   \n",
      "2          2      44761       1883      32.124053             9             5   \n",
      "3          3      60893       1883      31.961063             9             5   \n",
      "4          4      51087       1883      31.902362             9             5   \n",
      "...      ...        ...        ...            ...           ...           ...   \n",
      "123112  2005      59247      63331       0.000006             1             1   \n",
      "123113  2006      59247      64623       0.000007             1             1   \n",
      "123114  2007      59247      64680       0.000006             1             1   \n",
      "123115  2008      59247      65000       0.000006             1             1   \n",
      "123116  2009      59247      65129       0.000006             1             1   \n",
      "\n",
      "        fwd_data_pkts_tot  bwd_data_pkts_tot  fwd_pkts_per_sec  \\\n",
      "0                       3                  3          0.281148   \n",
      "1                       3                  3          0.282277   \n",
      "2                       3                  3          0.280164   \n",
      "3                       3                  3          0.281593   \n",
      "4                       3                  3          0.282111   \n",
      "...                   ...                ...               ...   \n",
      "123112                  0                  0     167772.160000   \n",
      "123113                  0                  0     144631.172414   \n",
      "123114                  0                  0     167772.160000   \n",
      "123115                  0                  0     167772.160000   \n",
      "123116                  0                  0     167772.160000   \n",
      "\n",
      "        bwd_pkts_per_sec  ...  bwd_init_window_size  fwd_last_window_size  \\\n",
      "0               0.156193  ...                 26847                   502   \n",
      "1               0.156821  ...                 26847                   502   \n",
      "2               0.155647  ...                 26847                   502   \n",
      "3               0.156440  ...                 26847                   502   \n",
      "4               0.156728  ...                 26847                   502   \n",
      "...                  ...  ...                   ...                   ...   \n",
      "123112     167772.160000  ...                     0                  1024   \n",
      "123113     144631.172414  ...                     0                  1024   \n",
      "123114     167772.160000  ...                     0                  1024   \n",
      "123115     167772.160000  ...                     0                  1024   \n",
      "123116     167772.160000  ...                     0                  1024   \n",
      "\n",
      "                Attack_type  proto_icmp  proto_tcp  proto_udp  service_0  \\\n",
      "0              MQTT_Publish           0          1          0          0   \n",
      "1              MQTT_Publish           0          1          0          0   \n",
      "2              MQTT_Publish           0          1          0          0   \n",
      "3              MQTT_Publish           0          1          0          0   \n",
      "4              MQTT_Publish           0          1          0          0   \n",
      "...                     ...         ...        ...        ...        ...   \n",
      "123112  NMAP_XMAS_TREE_SCAN           0          1          0          0   \n",
      "123113  NMAP_XMAS_TREE_SCAN           0          1          0          0   \n",
      "123114  NMAP_XMAS_TREE_SCAN           0          1          0          0   \n",
      "123115  NMAP_XMAS_TREE_SCAN           0          1          0          0   \n",
      "123116  NMAP_XMAS_TREE_SCAN           0          1          0          0   \n",
      "\n",
      "        service_1  service_2  service_3  \n",
      "0               0          0          1  \n",
      "1               0          0          1  \n",
      "2               0          0          1  \n",
      "3               0          0          1  \n",
      "4               0          0          1  \n",
      "...           ...        ...        ...  \n",
      "123112          0          1          0  \n",
      "123113          0          1          0  \n",
      "123114          0          1          0  \n",
      "123115          0          1          0  \n",
      "123116          0          1          0  \n",
      "\n",
      "[123117 rows x 90 columns]\n"
     ]
    }
   ],
   "source": [
    "from category_encoders import BaseNEncoder\n",
    "# znaci svaku vrednost predstavimo u binarnom broju npr MQTT_Publish bude 0001 pa nda Thing_Speak 0010 itd\n",
    "# Kreiranje instance BinaryEncoder-a sa specificiranim prefix-om\n",
    "# cols specificira koju kolonu kodiramo\n",
    "# Ako postavite base=2, enkodiraće se u binarnom sistemu.\n",
    "encoder = BaseNEncoder(cols=['service'], base=2)\n",
    "\n",
    "# Enkodiranje kategoričke kolone 'Service'\n",
    "dt_bin_encoded = encoder.fit_transform(dt['service'])\n",
    "\n",
    "# Dodavanje enkodiranih kolona u originalni DataFrame\n",
    "dt = pd.concat([dt, dt_bin_encoded], axis=1)\n",
    "\n",
    "# brisanje stare kolone SERVICE\n",
    "dt = dt.drop(['service'], axis=1)\n",
    "\n",
    "# Prikaz rezultata\n",
    "print(dt)"
   ]
  },
  {
   "cell_type": "code",
   "execution_count": 11,
   "id": "e2a115b0",
   "metadata": {},
   "outputs": [
    {
     "name": "stdout",
     "output_type": "stream",
     "text": [
      "          no  id.orig_p  id.resp_p  flow_duration  fwd_pkts_tot  bwd_pkts_tot  \\\n",
      "0          0      38667       1883      32.011598             9             5   \n",
      "1          1      51143       1883      31.883584             9             5   \n",
      "2          2      44761       1883      32.124053             9             5   \n",
      "3          3      60893       1883      31.961063             9             5   \n",
      "4          4      51087       1883      31.902362             9             5   \n",
      "...      ...        ...        ...            ...           ...           ...   \n",
      "123112  2005      59247      63331       0.000006             1             1   \n",
      "123113  2006      59247      64623       0.000007             1             1   \n",
      "123114  2007      59247      64680       0.000006             1             1   \n",
      "123115  2008      59247      65000       0.000006             1             1   \n",
      "123116  2009      59247      65129       0.000006             1             1   \n",
      "\n",
      "        fwd_data_pkts_tot  bwd_data_pkts_tot  fwd_pkts_per_sec  \\\n",
      "0                       3                  3          0.281148   \n",
      "1                       3                  3          0.282277   \n",
      "2                       3                  3          0.280164   \n",
      "3                       3                  3          0.281593   \n",
      "4                       3                  3          0.282111   \n",
      "...                   ...                ...               ...   \n",
      "123112                  0                  0     167772.160000   \n",
      "123113                  0                  0     144631.172414   \n",
      "123114                  0                  0     167772.160000   \n",
      "123115                  0                  0     167772.160000   \n",
      "123116                  0                  0     167772.160000   \n",
      "\n",
      "        bwd_pkts_per_sec  ...  bwd_init_window_size  fwd_last_window_size  \\\n",
      "0               0.156193  ...                 26847                   502   \n",
      "1               0.156821  ...                 26847                   502   \n",
      "2               0.155647  ...                 26847                   502   \n",
      "3               0.156440  ...                 26847                   502   \n",
      "4               0.156728  ...                 26847                   502   \n",
      "...                  ...  ...                   ...                   ...   \n",
      "123112     167772.160000  ...                     0                  1024   \n",
      "123113     144631.172414  ...                     0                  1024   \n",
      "123114     167772.160000  ...                     0                  1024   \n",
      "123115     167772.160000  ...                     0                  1024   \n",
      "123116     167772.160000  ...                     0                  1024   \n",
      "\n",
      "                Attack_type  proto_icmp  proto_tcp  proto_udp  service_0  \\\n",
      "0              MQTT_Publish           0          1          0          0   \n",
      "1              MQTT_Publish           0          1          0          0   \n",
      "2              MQTT_Publish           0          1          0          0   \n",
      "3              MQTT_Publish           0          1          0          0   \n",
      "4              MQTT_Publish           0          1          0          0   \n",
      "...                     ...         ...        ...        ...        ...   \n",
      "123112  NMAP_XMAS_TREE_SCAN           0          1          0          0   \n",
      "123113  NMAP_XMAS_TREE_SCAN           0          1          0          0   \n",
      "123114  NMAP_XMAS_TREE_SCAN           0          1          0          0   \n",
      "123115  NMAP_XMAS_TREE_SCAN           0          1          0          0   \n",
      "123116  NMAP_XMAS_TREE_SCAN           0          1          0          0   \n",
      "\n",
      "        service_1  service_2  service_3  \n",
      "0               0          0          1  \n",
      "1               0          0          1  \n",
      "2               0          0          1  \n",
      "3               0          0          1  \n",
      "4               0          0          1  \n",
      "...           ...        ...        ...  \n",
      "123112          0          1          0  \n",
      "123113          0          1          0  \n",
      "123114          0          1          0  \n",
      "123115          0          1          0  \n",
      "123116          0          1          0  \n",
      "\n",
      "[123117 rows x 90 columns]\n"
     ]
    }
   ],
   "source": [
    "print(dt)"
   ]
  },
  {
   "cell_type": "markdown",
   "id": "93507e64",
   "metadata": {},
   "source": [
    "# PREGLED CILJNE (TARGET) VARIJABLE"
   ]
  },
  {
   "cell_type": "code",
   "execution_count": 12,
   "id": "230ebfbc",
   "metadata": {},
   "outputs": [
    {
     "data": {
      "text/plain": [
       "array(['MQTT_Publish', 'Thing_Speak', 'Wipro_bulb', 'ARP_poisioning',\n",
       "       'DDOS_Slowloris', 'DOS_SYN_Hping', 'Metasploit_Brute_Force_SSH',\n",
       "       'NMAP_FIN_SCAN', 'NMAP_OS_DETECTION', 'NMAP_TCP_scan',\n",
       "       'NMAP_UDP_SCAN', 'NMAP_XMAS_TREE_SCAN'], dtype=object)"
      ]
     },
     "execution_count": 12,
     "metadata": {},
     "output_type": "execute_result"
    }
   ],
   "source": [
    "# ispitujem koje target varijable postoje - na linku o data setu ima koji tipovi su napadi a koji ne\n",
    "dt['Attack_type'].unique()"
   ]
  },
  {
   "cell_type": "markdown",
   "id": "bc6d3dc9",
   "metadata": {},
   "source": [
    "# ovde mozda ubaciti neki pregled ciljane varijable pre mapiranja u 0 i 1 --> tamo na linku dataseta se nesto pominje Amazon ALexa pa i to proveriti"
   ]
  },
  {
   "cell_type": "markdown",
   "id": "9c54bdc2",
   "metadata": {},
   "source": [
    "# LABEL ENCODING za TARGET"
   ]
  },
  {
   "cell_type": "code",
   "execution_count": 13,
   "id": "36c24631",
   "metadata": {},
   "outputs": [
    {
     "name": "stdout",
     "output_type": "stream",
     "text": [
      "          no  id.orig_p  id.resp_p  flow_duration  fwd_pkts_tot  bwd_pkts_tot  \\\n",
      "0          0      38667       1883      32.011598             9             5   \n",
      "1          1      51143       1883      31.883584             9             5   \n",
      "2          2      44761       1883      32.124053             9             5   \n",
      "3          3      60893       1883      31.961063             9             5   \n",
      "4          4      51087       1883      31.902362             9             5   \n",
      "...      ...        ...        ...            ...           ...           ...   \n",
      "123112  2005      59247      63331       0.000006             1             1   \n",
      "123113  2006      59247      64623       0.000007             1             1   \n",
      "123114  2007      59247      64680       0.000006             1             1   \n",
      "123115  2008      59247      65000       0.000006             1             1   \n",
      "123116  2009      59247      65129       0.000006             1             1   \n",
      "\n",
      "        fwd_data_pkts_tot  bwd_data_pkts_tot  fwd_pkts_per_sec  \\\n",
      "0                       3                  3          0.281148   \n",
      "1                       3                  3          0.282277   \n",
      "2                       3                  3          0.280164   \n",
      "3                       3                  3          0.281593   \n",
      "4                       3                  3          0.282111   \n",
      "...                   ...                ...               ...   \n",
      "123112                  0                  0     167772.160000   \n",
      "123113                  0                  0     144631.172414   \n",
      "123114                  0                  0     167772.160000   \n",
      "123115                  0                  0     167772.160000   \n",
      "123116                  0                  0     167772.160000   \n",
      "\n",
      "        bwd_pkts_per_sec  ...  fwd_last_window_size          Attack_type  \\\n",
      "0               0.156193  ...                   502         MQTT_Publish   \n",
      "1               0.156821  ...                   502         MQTT_Publish   \n",
      "2               0.155647  ...                   502         MQTT_Publish   \n",
      "3               0.156440  ...                   502         MQTT_Publish   \n",
      "4               0.156728  ...                   502         MQTT_Publish   \n",
      "...                  ...  ...                   ...                  ...   \n",
      "123112     167772.160000  ...                  1024  NMAP_XMAS_TREE_SCAN   \n",
      "123113     144631.172414  ...                  1024  NMAP_XMAS_TREE_SCAN   \n",
      "123114     167772.160000  ...                  1024  NMAP_XMAS_TREE_SCAN   \n",
      "123115     167772.160000  ...                  1024  NMAP_XMAS_TREE_SCAN   \n",
      "123116     167772.160000  ...                  1024  NMAP_XMAS_TREE_SCAN   \n",
      "\n",
      "        proto_icmp  proto_tcp  proto_udp  service_0  service_1  service_2  \\\n",
      "0                0          1          0          0          0          0   \n",
      "1                0          1          0          0          0          0   \n",
      "2                0          1          0          0          0          0   \n",
      "3                0          1          0          0          0          0   \n",
      "4                0          1          0          0          0          0   \n",
      "...            ...        ...        ...        ...        ...        ...   \n",
      "123112           0          1          0          0          0          1   \n",
      "123113           0          1          0          0          0          1   \n",
      "123114           0          1          0          0          0          1   \n",
      "123115           0          1          0          0          0          1   \n",
      "123116           0          1          0          0          0          1   \n",
      "\n",
      "        service_3  encoded_attack  \n",
      "0               1               0  \n",
      "1               1               0  \n",
      "2               1               0  \n",
      "3               1               0  \n",
      "4               1               0  \n",
      "...           ...             ...  \n",
      "123112          0               1  \n",
      "123113          0               1  \n",
      "123114          0               1  \n",
      "123115          0               1  \n",
      "123116          0               1  \n",
      "\n",
      "[123117 rows x 91 columns]\n"
     ]
    }
   ],
   "source": [
    "# label encoding za pretvaranje kategoricku u numericku target varijablu (neka varijacijana temu)\n",
    "\n",
    "# Definisanje koje vrste želimo da označimo kao 1 (napad), a koje kao 0 (jer nije napad nego normalna aktivnost)\n",
    "attack_mapping = {\n",
    "    'MQTT_Publish': 0, 'Thing_Speak': 0, 'Wipro_bulb': 0, 'DOS_SYN_Hping': 1, 'ARP_poisioning': 1, 'NMAP_UDP_SCAN': 1,\n",
    "    'NMAP_XMAS_TREE_SCAN': 1, 'NMAP_OS_DETECTION': 1, 'NMAP_TCP_scan': 1, 'DDOS_Slowloris': 1, 'DOS_SYN_Hping' : 1,\n",
    "    'Metasploit_Brute_Force_SSH': 1, 'NMAP_FIN_SCAN': 1, \n",
    "}\n",
    "\n",
    "# Primenite mapiranje\n",
    "dt['encoded_attack'] = dt['Attack_type'].map(attack_mapping)\n",
    "print(dt)"
   ]
  },
  {
   "cell_type": "code",
   "execution_count": 23,
   "id": "59d29df0",
   "metadata": {},
   "outputs": [
    {
     "data": {
      "text/html": [
       "<div>\n",
       "<style scoped>\n",
       "    .dataframe tbody tr th:only-of-type {\n",
       "        vertical-align: middle;\n",
       "    }\n",
       "\n",
       "    .dataframe tbody tr th {\n",
       "        vertical-align: top;\n",
       "    }\n",
       "\n",
       "    .dataframe thead th {\n",
       "        text-align: right;\n",
       "    }\n",
       "</style>\n",
       "<table border=\"1\" class=\"dataframe\">\n",
       "  <thead>\n",
       "    <tr style=\"text-align: right;\">\n",
       "      <th></th>\n",
       "      <th>no</th>\n",
       "      <th>id.orig_p</th>\n",
       "      <th>id.resp_p</th>\n",
       "      <th>flow_duration</th>\n",
       "      <th>fwd_pkts_tot</th>\n",
       "      <th>bwd_pkts_tot</th>\n",
       "      <th>fwd_data_pkts_tot</th>\n",
       "      <th>bwd_data_pkts_tot</th>\n",
       "      <th>fwd_pkts_per_sec</th>\n",
       "      <th>bwd_pkts_per_sec</th>\n",
       "      <th>...</th>\n",
       "      <th>bwd_init_window_size</th>\n",
       "      <th>fwd_last_window_size</th>\n",
       "      <th>proto_icmp</th>\n",
       "      <th>proto_tcp</th>\n",
       "      <th>proto_udp</th>\n",
       "      <th>service_0</th>\n",
       "      <th>service_1</th>\n",
       "      <th>service_2</th>\n",
       "      <th>service_3</th>\n",
       "      <th>encoded_attack</th>\n",
       "    </tr>\n",
       "  </thead>\n",
       "  <tbody>\n",
       "    <tr>\n",
       "      <th>0</th>\n",
       "      <td>0</td>\n",
       "      <td>38667</td>\n",
       "      <td>1883</td>\n",
       "      <td>32.011598</td>\n",
       "      <td>9</td>\n",
       "      <td>5</td>\n",
       "      <td>3</td>\n",
       "      <td>3</td>\n",
       "      <td>0.281148</td>\n",
       "      <td>0.156193</td>\n",
       "      <td>...</td>\n",
       "      <td>26847</td>\n",
       "      <td>502</td>\n",
       "      <td>0</td>\n",
       "      <td>1</td>\n",
       "      <td>0</td>\n",
       "      <td>0</td>\n",
       "      <td>0</td>\n",
       "      <td>0</td>\n",
       "      <td>1</td>\n",
       "      <td>0</td>\n",
       "    </tr>\n",
       "    <tr>\n",
       "      <th>1</th>\n",
       "      <td>1</td>\n",
       "      <td>51143</td>\n",
       "      <td>1883</td>\n",
       "      <td>31.883584</td>\n",
       "      <td>9</td>\n",
       "      <td>5</td>\n",
       "      <td>3</td>\n",
       "      <td>3</td>\n",
       "      <td>0.282277</td>\n",
       "      <td>0.156821</td>\n",
       "      <td>...</td>\n",
       "      <td>26847</td>\n",
       "      <td>502</td>\n",
       "      <td>0</td>\n",
       "      <td>1</td>\n",
       "      <td>0</td>\n",
       "      <td>0</td>\n",
       "      <td>0</td>\n",
       "      <td>0</td>\n",
       "      <td>1</td>\n",
       "      <td>0</td>\n",
       "    </tr>\n",
       "    <tr>\n",
       "      <th>2</th>\n",
       "      <td>2</td>\n",
       "      <td>44761</td>\n",
       "      <td>1883</td>\n",
       "      <td>32.124053</td>\n",
       "      <td>9</td>\n",
       "      <td>5</td>\n",
       "      <td>3</td>\n",
       "      <td>3</td>\n",
       "      <td>0.280164</td>\n",
       "      <td>0.155647</td>\n",
       "      <td>...</td>\n",
       "      <td>26847</td>\n",
       "      <td>502</td>\n",
       "      <td>0</td>\n",
       "      <td>1</td>\n",
       "      <td>0</td>\n",
       "      <td>0</td>\n",
       "      <td>0</td>\n",
       "      <td>0</td>\n",
       "      <td>1</td>\n",
       "      <td>0</td>\n",
       "    </tr>\n",
       "    <tr>\n",
       "      <th>3</th>\n",
       "      <td>3</td>\n",
       "      <td>60893</td>\n",
       "      <td>1883</td>\n",
       "      <td>31.961063</td>\n",
       "      <td>9</td>\n",
       "      <td>5</td>\n",
       "      <td>3</td>\n",
       "      <td>3</td>\n",
       "      <td>0.281593</td>\n",
       "      <td>0.156440</td>\n",
       "      <td>...</td>\n",
       "      <td>26847</td>\n",
       "      <td>502</td>\n",
       "      <td>0</td>\n",
       "      <td>1</td>\n",
       "      <td>0</td>\n",
       "      <td>0</td>\n",
       "      <td>0</td>\n",
       "      <td>0</td>\n",
       "      <td>1</td>\n",
       "      <td>0</td>\n",
       "    </tr>\n",
       "    <tr>\n",
       "      <th>4</th>\n",
       "      <td>4</td>\n",
       "      <td>51087</td>\n",
       "      <td>1883</td>\n",
       "      <td>31.902362</td>\n",
       "      <td>9</td>\n",
       "      <td>5</td>\n",
       "      <td>3</td>\n",
       "      <td>3</td>\n",
       "      <td>0.282111</td>\n",
       "      <td>0.156728</td>\n",
       "      <td>...</td>\n",
       "      <td>26847</td>\n",
       "      <td>502</td>\n",
       "      <td>0</td>\n",
       "      <td>1</td>\n",
       "      <td>0</td>\n",
       "      <td>0</td>\n",
       "      <td>0</td>\n",
       "      <td>0</td>\n",
       "      <td>1</td>\n",
       "      <td>0</td>\n",
       "    </tr>\n",
       "    <tr>\n",
       "      <th>5</th>\n",
       "      <td>5</td>\n",
       "      <td>48579</td>\n",
       "      <td>1883</td>\n",
       "      <td>31.869686</td>\n",
       "      <td>9</td>\n",
       "      <td>5</td>\n",
       "      <td>3</td>\n",
       "      <td>3</td>\n",
       "      <td>0.282400</td>\n",
       "      <td>0.156889</td>\n",
       "      <td>...</td>\n",
       "      <td>26847</td>\n",
       "      <td>502</td>\n",
       "      <td>0</td>\n",
       "      <td>1</td>\n",
       "      <td>0</td>\n",
       "      <td>0</td>\n",
       "      <td>0</td>\n",
       "      <td>0</td>\n",
       "      <td>1</td>\n",
       "      <td>0</td>\n",
       "    </tr>\n",
       "    <tr>\n",
       "      <th>6</th>\n",
       "      <td>6</td>\n",
       "      <td>54063</td>\n",
       "      <td>1883</td>\n",
       "      <td>32.094711</td>\n",
       "      <td>9</td>\n",
       "      <td>5</td>\n",
       "      <td>3</td>\n",
       "      <td>3</td>\n",
       "      <td>0.280420</td>\n",
       "      <td>0.155789</td>\n",
       "      <td>...</td>\n",
       "      <td>26847</td>\n",
       "      <td>502</td>\n",
       "      <td>0</td>\n",
       "      <td>1</td>\n",
       "      <td>0</td>\n",
       "      <td>0</td>\n",
       "      <td>0</td>\n",
       "      <td>0</td>\n",
       "      <td>1</td>\n",
       "      <td>0</td>\n",
       "    </tr>\n",
       "    <tr>\n",
       "      <th>7</th>\n",
       "      <td>7</td>\n",
       "      <td>33457</td>\n",
       "      <td>1883</td>\n",
       "      <td>32.104011</td>\n",
       "      <td>9</td>\n",
       "      <td>5</td>\n",
       "      <td>3</td>\n",
       "      <td>3</td>\n",
       "      <td>0.280339</td>\n",
       "      <td>0.155744</td>\n",
       "      <td>...</td>\n",
       "      <td>26847</td>\n",
       "      <td>502</td>\n",
       "      <td>0</td>\n",
       "      <td>1</td>\n",
       "      <td>0</td>\n",
       "      <td>0</td>\n",
       "      <td>0</td>\n",
       "      <td>0</td>\n",
       "      <td>1</td>\n",
       "      <td>0</td>\n",
       "    </tr>\n",
       "    <tr>\n",
       "      <th>8</th>\n",
       "      <td>8</td>\n",
       "      <td>52181</td>\n",
       "      <td>1883</td>\n",
       "      <td>32.026967</td>\n",
       "      <td>9</td>\n",
       "      <td>5</td>\n",
       "      <td>3</td>\n",
       "      <td>3</td>\n",
       "      <td>0.281013</td>\n",
       "      <td>0.156118</td>\n",
       "      <td>...</td>\n",
       "      <td>26847</td>\n",
       "      <td>502</td>\n",
       "      <td>0</td>\n",
       "      <td>1</td>\n",
       "      <td>0</td>\n",
       "      <td>0</td>\n",
       "      <td>0</td>\n",
       "      <td>0</td>\n",
       "      <td>1</td>\n",
       "      <td>0</td>\n",
       "    </tr>\n",
       "    <tr>\n",
       "      <th>9</th>\n",
       "      <td>9</td>\n",
       "      <td>53469</td>\n",
       "      <td>1883</td>\n",
       "      <td>32.048637</td>\n",
       "      <td>9</td>\n",
       "      <td>5</td>\n",
       "      <td>3</td>\n",
       "      <td>3</td>\n",
       "      <td>0.280823</td>\n",
       "      <td>0.156013</td>\n",
       "      <td>...</td>\n",
       "      <td>26847</td>\n",
       "      <td>502</td>\n",
       "      <td>0</td>\n",
       "      <td>1</td>\n",
       "      <td>0</td>\n",
       "      <td>0</td>\n",
       "      <td>0</td>\n",
       "      <td>0</td>\n",
       "      <td>1</td>\n",
       "      <td>0</td>\n",
       "    </tr>\n",
       "  </tbody>\n",
       "</table>\n",
       "<p>10 rows × 90 columns</p>\n",
       "</div>"
      ],
      "text/plain": [
       "   no  id.orig_p  id.resp_p  flow_duration  fwd_pkts_tot  bwd_pkts_tot  \\\n",
       "0   0      38667       1883      32.011598             9             5   \n",
       "1   1      51143       1883      31.883584             9             5   \n",
       "2   2      44761       1883      32.124053             9             5   \n",
       "3   3      60893       1883      31.961063             9             5   \n",
       "4   4      51087       1883      31.902362             9             5   \n",
       "5   5      48579       1883      31.869686             9             5   \n",
       "6   6      54063       1883      32.094711             9             5   \n",
       "7   7      33457       1883      32.104011             9             5   \n",
       "8   8      52181       1883      32.026967             9             5   \n",
       "9   9      53469       1883      32.048637             9             5   \n",
       "\n",
       "   fwd_data_pkts_tot  bwd_data_pkts_tot  fwd_pkts_per_sec  bwd_pkts_per_sec  \\\n",
       "0                  3                  3          0.281148          0.156193   \n",
       "1                  3                  3          0.282277          0.156821   \n",
       "2                  3                  3          0.280164          0.155647   \n",
       "3                  3                  3          0.281593          0.156440   \n",
       "4                  3                  3          0.282111          0.156728   \n",
       "5                  3                  3          0.282400          0.156889   \n",
       "6                  3                  3          0.280420          0.155789   \n",
       "7                  3                  3          0.280339          0.155744   \n",
       "8                  3                  3          0.281013          0.156118   \n",
       "9                  3                  3          0.280823          0.156013   \n",
       "\n",
       "   ...  bwd_init_window_size  fwd_last_window_size  proto_icmp  proto_tcp  \\\n",
       "0  ...                 26847                   502           0          1   \n",
       "1  ...                 26847                   502           0          1   \n",
       "2  ...                 26847                   502           0          1   \n",
       "3  ...                 26847                   502           0          1   \n",
       "4  ...                 26847                   502           0          1   \n",
       "5  ...                 26847                   502           0          1   \n",
       "6  ...                 26847                   502           0          1   \n",
       "7  ...                 26847                   502           0          1   \n",
       "8  ...                 26847                   502           0          1   \n",
       "9  ...                 26847                   502           0          1   \n",
       "\n",
       "   proto_udp  service_0  service_1  service_2  service_3  encoded_attack  \n",
       "0          0          0          0          0          1               0  \n",
       "1          0          0          0          0          1               0  \n",
       "2          0          0          0          0          1               0  \n",
       "3          0          0          0          0          1               0  \n",
       "4          0          0          0          0          1               0  \n",
       "5          0          0          0          0          1               0  \n",
       "6          0          0          0          0          1               0  \n",
       "7          0          0          0          0          1               0  \n",
       "8          0          0          0          0          1               0  \n",
       "9          0          0          0          0          1               0  \n",
       "\n",
       "[10 rows x 90 columns]"
      ]
     },
     "execution_count": 23,
     "metadata": {},
     "output_type": "execute_result"
    }
   ],
   "source": [
    "# dropovala bih staru kolonu koja predstavlja vrstu napada\n",
    "# moramo specifirati i axis to je znak da se brise kolone\n",
    "dt.drop(['Attack_type'], axis=1, inplace=True)\n",
    "dt.head(10)"
   ]
  },
  {
   "cell_type": "markdown",
   "id": "fd183bc0",
   "metadata": {},
   "source": [
    "# Podela na X i na y set"
   ]
  },
  {
   "cell_type": "code",
   "execution_count": 25,
   "id": "b775185d",
   "metadata": {},
   "outputs": [],
   "source": [
    "#prvo moram da podelim podatke na X (svi atributi) i na y (target varijabla)\n",
    "#ovo nam treba i zbog podele na test i training set\n",
    "\n",
    "#Extracting features (all columns except the last one = label)\n",
    "all_features = dt.columns[:-1].tolist()\n",
    "X = dt[all_features]\n",
    "\n",
    "y = dt['encoded_attack']"
   ]
  },
  {
   "cell_type": "markdown",
   "id": "4ff68ef2",
   "metadata": {},
   "source": [
    "# Provera BALANSIRANOSTI"
   ]
  },
  {
   "cell_type": "markdown",
   "id": "23e929f2",
   "metadata": {},
   "source": [
    "--> Numericki prikaz balansiranosti"
   ]
  },
  {
   "cell_type": "code",
   "execution_count": 26,
   "id": "87377fbb",
   "metadata": {},
   "outputs": [
    {
     "name": "stdout",
     "output_type": "stream",
     "text": [
      "encoded_attack\n",
      "1    110610\n",
      "0     12507\n",
      "Name: count, dtype: int64\n"
     ]
    }
   ],
   "source": [
    "# provera balansiranosti podataka \n",
    "freq = dt['encoded_attack'].value_counts()\n",
    "print(freq)"
   ]
  },
  {
   "cell_type": "code",
   "execution_count": 27,
   "id": "7ea7dff5",
   "metadata": {},
   "outputs": [
    {
     "name": "stdout",
     "output_type": "stream",
     "text": [
      "encoded_attack\n",
      "1    0.898414\n",
      "0    0.101586\n",
      "Name: proportion, dtype: float64\n"
     ]
    }
   ],
   "source": [
    "# provera frekvencije\n",
    "print(dt['encoded_attack'].value_counts(normalize=True))\n",
    "# 0 je normalan saobracaj (11%) a 1 je napad (89%)\n",
    "\n",
    "# druga naredba - isto radi\n",
    "# Print the ratio of fraud cases\n",
    "#print(freq / len(dt))"
   ]
  },
  {
   "cell_type": "markdown",
   "id": "fd93dbbe",
   "metadata": {},
   "source": [
    "--> Graficki prikaz balansiranosti"
   ]
  },
  {
   "cell_type": "code",
   "execution_count": 28,
   "id": "894b69b9",
   "metadata": {},
   "outputs": [],
   "source": [
    "#you'll look at the data and visualize the fraud to non-fraud ratio.\n",
    "# def function for ploting the distribution of 0 and 1\n",
    "# make a fun because I wil use it later too\n",
    "def plot_data(target_data, title):\n",
    "    plt.figure(figsize=(8,6))\n",
    "    sns.countplot(x=target_data, palette='Set3')\n",
    "    plt.title(title)\n",
    "    plt.xlabel('Labels')\n",
    "    plt.ylabel('Number of occurrences')"
   ]
  },
  {
   "cell_type": "code",
   "execution_count": 30,
   "id": "2a116f75",
   "metadata": {},
   "outputs": [
    {
     "data": {
      "image/png": "[encoded data removed]",
      "text/plain": [
       "<Figure size 800x600 with 1 Axes>"
      ]
     },
     "metadata": {},
     "output_type": "display_data"
    }
   ],
   "source": [
    "# pozivam fju koja je napisana ranije\n",
    "plot_data(y, 'Distribution of different class label')"
   ]
  },
  {
   "cell_type": "markdown",
   "id": "e84c90c6",
   "metadata": {},
   "source": [
    "# TRAIN/TEST split"
   ]
  },
  {
   "cell_type": "code",
   "execution_count": 31,
   "id": "d03bb3e8",
   "metadata": {},
   "outputs": [
    {
     "name": "stdout",
     "output_type": "stream",
     "text": [
      "Oblik X_train: (98493, 89)\n",
      "Oblik X_test: (24624, 89)\n",
      "Oblik y_train: (98493,)\n",
      "Oblik y_test: (24624,)\n"
     ]
    }
   ],
   "source": [
    "from sklearn.model_selection import train_test_split\n",
    "# 80% za treningi 20% za test - standardna podela u masinskom ucenju\n",
    "# osigurava da podela podataka na trening i test skupove bude ista svaki put kada pokrenete kod,\n",
    "# pod uslovom da je ostatak koda i podaci isti\n",
    "X_train, X_test, y_train, y_test = train_test_split(X, y, test_size=0.2, random_state=42)\n",
    "\n",
    "# Proverite oblik podataka\n",
    "print(\"Oblik X_train:\", X_train.shape)\n",
    "print(\"Oblik X_test:\", X_test.shape)\n",
    "print(\"Oblik y_train:\", y_train.shape)\n",
    "print(\"Oblik y_test:\", y_test.shape)"
   ]
  },
  {
   "cell_type": "markdown",
   "id": "6c90ffbd",
   "metadata": {},
   "source": [
    "# BALANSIRANJE PODATKA - SMOTE"
   ]
  },
  {
   "cell_type": "markdown",
   "id": "6ee9ec46",
   "metadata": {},
   "source": [
    "# balansiranje ne radi jer imamo kategorijske varijable koje moramo da pretvorimo u numericke prvo"
   ]
  },
  {
   "cell_type": "code",
   "execution_count": 32,
   "id": "753edb97",
   "metadata": {},
   "outputs": [
    {
     "data": {
      "image/png": "[encoded data removed]",
      "text/plain": [
       "<Figure size 800x600 with 1 Axes>"
      ]
     },
     "metadata": {},
     "output_type": "display_data"
    }
   ],
   "source": [
    "from imblearn.over_sampling import SMOTE\n",
    "\n",
    "# Define the resampling method\n",
    "method = SMOTE()\n",
    "\n",
    "# Create the resampled feature set - SAMO NA TRENIRANIM PODACIMA - mora i na X i na y jer pravi torku za sve kolone naravno\n",
    "X_resampled, y_resampled = method.fit_resample(X_train, y_train)\n",
    "\n",
    "# Plot the resampled data\n",
    "plot_data(y_resampled, 'Distribution of different RESAMPLED class label')"
   ]
  },
  {
   "cell_type": "code",
   "execution_count": null,
   "id": "35b124ae",
   "metadata": {},
   "outputs": [],
   "source": []
  }
 ],
 "metadata": {
  "kernelspec": {
   "display_name": "Python 3 (ipykernel)",
   "language": "python",
   "name": "python3"
  },
  "language_info": {
   "codemirror_mode": {
    "name": "ipython",
    "version": 3
   },
   "file_extension": ".py",
   "mimetype": "text/x-python",
   "name": "python",
   "nbconvert_exporter": "python",
   "pygments_lexer": "ipython3",
   "version": "3.11.4"
  }
 },
 "nbformat": 4,
 "nbformat_minor": 5
}
